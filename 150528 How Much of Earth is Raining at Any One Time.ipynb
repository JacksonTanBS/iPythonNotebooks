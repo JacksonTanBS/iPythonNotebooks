{
 "cells": [
  {
   "cell_type": "markdown",
   "metadata": {},
   "source": [
    "### This notebook investigates the simple question of how much of the Earth is raining using one day of IMERG data."
   ]
  },
  {
   "cell_type": "markdown",
   "metadata": {},
   "source": [
    "Assumption:\n",
    "* rainfall is statistically constant over one day (true to first order), and\n",
    "* IMERG (restricted to ±60° latitudes) is representative of global precipitation (pretty good).\n",
    "\n",
    "Caveat: IMERG is primarily constructed from space-borne microwave instruments, which may encounter challenges picking up very light rain (< 0.1 mm / hr).\n",
    "\n",
    "IMERG data can be downloaded here: http://pmm.nasa.gov/data-access/downloads/gpm."
   ]
  },
  {
   "cell_type": "code",
   "execution_count": 1,
   "metadata": {
    "collapsed": false
   },
   "outputs": [],
   "source": [
    "import numpy as np\n",
    "import h5py\n",
    "from glob import glob"
   ]
  },
  {
   "cell_type": "code",
   "execution_count": 2,
   "metadata": {
    "collapsed": false
   },
   "outputs": [],
   "source": [
    "imergpath = '/media/Sentinel/data/IMERG/'\n",
    "year, month, day = 2014, 4, 1"
   ]
  },
  {
   "cell_type": "markdown",
   "metadata": {},
   "source": [
    "Read the IMERG files for one day."
   ]
  },
  {
   "cell_type": "code",
   "execution_count": 3,
   "metadata": {
    "collapsed": false
   },
   "outputs": [],
   "source": [
    "inpath = '%s%4d/%02d/%02d/' % (imergpath, year, 4, 1)\n",
    "files = sorted(glob('%s3B-HHR*' % inpath))\n",
    "nt = len(files)\n",
    "\n",
    "with h5py.File(files[0]) as f:\n",
    "    lats = f['Grid/lat'][:]\n",
    "    lons = f['Grid/lon'][:]\n",
    "    fillvalue = f['Grid/precipitationCal'].attrs['_FillValue']\n",
    "    \n",
    "nlon, nlat = len(lons), len(lats)"
   ]
  },
  {
   "cell_type": "code",
   "execution_count": 4,
   "metadata": {
    "collapsed": false
   },
   "outputs": [],
   "source": [
    "Pimerg = np.ma.masked_all([nt, nlon, nlat], dtype = np.float32)\n",
    "\n",
    "inpath = '%s%4d/%02d/%02d/' % (imergpath, year, month, day)\n",
    "files = sorted(glob('%s3B-HHR*' % inpath))\n",
    "\n",
    "for tt in range(nt):\n",
    "    with h5py.File(files[tt]) as f:\n",
    "        Pimerg[tt] = np.ma.masked_less(f['Grid/precipitationCal'][:], -100.)"
   ]
  },
  {
   "cell_type": "markdown",
   "metadata": {},
   "source": [
    "Calculate the ratio of the number of grid boxes with rain (above 0.01 mm / h threshold) to the number of valid grid boxes (mainly between ±60° latitudes)."
   ]
  },
  {
   "cell_type": "code",
   "execution_count": 5,
   "metadata": {
    "collapsed": false
   },
   "outputs": [
    {
     "name": "stdout",
     "output_type": "stream",
     "text": [
      "0.0551275945216\n"
     ]
    }
   ],
   "source": [
    "print(np.ma.sum(Pimerg > 0.01) / np.ma.count(Pimerg))"
   ]
  },
  {
   "cell_type": "markdown",
   "metadata": {},
   "source": [
    "Therefore, about **5.5% of the Earth's area is raining at any one time**."
   ]
  },
  {
   "cell_type": "markdown",
   "metadata": {},
   "source": [
    "The simplification made here is that the ratio of *grid boxes* is similar to the ratio of *areas*. Or, putting it in another way, a grid box at high latitude has a smaller area than a grid box at the equator and thus contribute less to the ratio. However, to first order this is a fair assumption. Improvements can be made by simply weighting the grid boxes by the cosine of the latitude."
   ]
  },
  {
   "cell_type": "code",
   "execution_count": 6,
   "metadata": {
    "collapsed": false
   },
   "outputs": [
    {
     "data": {
      "application/json": {
       "Software versions": [
        {
         "module": "Python",
         "version": "3.3.2 64bit [GCC 4.4.7 20120313 (Red Hat 4.4.7-4)]"
        },
        {
         "module": "IPython",
         "version": "3.1.0"
        },
        {
         "module": "OS",
         "version": "Linux 2.6.32 504.1.3.el6.x86_64 x86_64 with centos 6.6 Final"
        },
        {
         "module": "numpy",
         "version": "1.9.2"
        },
        {
         "module": "h5py",
         "version": "2.5.0"
        }
       ]
      },
      "text/html": [
       "<table><tr><th>Software</th><th>Version</th></tr><tr><td>Python</td><td>3.3.2 64bit [GCC 4.4.7 20120313 (Red Hat 4.4.7-4)]</td></tr><tr><td>IPython</td><td>3.1.0</td></tr><tr><td>OS</td><td>Linux 2.6.32 504.1.3.el6.x86_64 x86_64 with centos 6.6 Final</td></tr><tr><td>numpy</td><td>1.9.2</td></tr><tr><td>h5py</td><td>2.5.0</td></tr><tr><td colspan='2'>Fri May 29 08:07:55 2015 EDT</td></tr></table>"
      ],
      "text/latex": [
       "\\begin{tabular}{|l|l|}\\hline\n",
       "{\\bf Software} & {\\bf Version} \\\\ \\hline\\hline\n",
       "Python & 3.3.2 64bit [GCC 4.4.7 20120313 (Red Hat 4.4.7-4)] \\\\ \\hline\n",
       "IPython & 3.1.0 \\\\ \\hline\n",
       "OS & Linux 2.6.32 504.1.3.el6.x86\\_64 x86\\_64 with centos 6.6 Final \\\\ \\hline\n",
       "numpy & 1.9.2 \\\\ \\hline\n",
       "h5py & 2.5.0 \\\\ \\hline\n",
       "\\hline \\multicolumn{2}{|l|}{Fri May 29 08:07:55 2015 EDT} \\\\ \\hline\n",
       "\\end{tabular}\n"
      ],
      "text/plain": [
       "Software versions\n",
       "Python 3.3.2 64bit [GCC 4.4.7 20120313 (Red Hat 4.4.7-4)]\n",
       "IPython 3.1.0\n",
       "OS Linux 2.6.32 504.1.3.el6.x86_64 x86_64 with centos 6.6 Final\n",
       "numpy 1.9.2\n",
       "h5py 2.5.0\n",
       "Fri May 29 08:07:55 2015 EDT"
      ]
     },
     "execution_count": 6,
     "metadata": {},
     "output_type": "execute_result"
    }
   ],
   "source": [
    "# print system info: please manually input non-core imported modules\n",
    "%load_ext version_information\n",
    "%version_information numpy, h5py"
   ]
  }
 ],
 "metadata": {
  "kernelspec": {
   "display_name": "Python 3",
   "language": "python",
   "name": "python3"
  },
  "language_info": {
   "codemirror_mode": {
    "name": "ipython",
    "version": 3
   },
   "file_extension": ".py",
   "mimetype": "text/x-python",
   "name": "python",
   "nbconvert_exporter": "python",
   "pygments_lexer": "ipython3",
   "version": "3.3.2"
  }
 },
 "nbformat": 4,
 "nbformat_minor": 0
}
